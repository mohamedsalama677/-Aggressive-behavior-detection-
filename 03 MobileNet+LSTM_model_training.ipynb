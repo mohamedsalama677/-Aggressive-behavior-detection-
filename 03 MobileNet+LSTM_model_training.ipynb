{
 "cells": [
  {
   "cell_type": "markdown",
   "metadata": {},
   "source": [
    "# 04. Train LSTM Model\n",
    "* we'll train LSTM Model!\n",
    "* **Output File** : **`210512_MobileNet_model_epoch100.h5`** (trained LSTM Model! It contains weights et al.)\n",
    "* **`Before run this file, Please check this`**:\n",
    "    * 01_video-to-numpy-save.ipynb\n",
    "    * 02_create-numpy-datasets_training-test.ipynb\n",
    "    * 03_MobileNet.ipynb\n",
    "* **`Are those files exist on there?`** Those files were made by 01~03_MobileNet.ipynb files.\n",
    "    * Training set, data : MobileNet_x_train_reshaped_210512.npy\n",
    "    * Training set, label : 02_label_training_Numpy_210512.npy\n",
    "    * Test set, data : MobileNet_x_test_reshaped_210512.npy\n",
    "    * Test set, label : 02_label_test_Numpy_210512.npy"
   ]
  },
  {
   "cell_type": "markdown",
   "metadata": {},
   "source": [
    "# Import"
   ]
  },
  {
   "cell_type": "code",
   "execution_count": 1,
   "metadata": {
    "execution": {
     "iopub.execute_input": "2021-05-12T04:31:33.689205Z",
     "iopub.status.busy": "2021-05-12T04:31:33.689205Z",
     "iopub.status.idle": "2021-05-12T04:31:46.656443Z",
     "shell.execute_reply": "2021-05-12T04:31:46.656443Z",
     "shell.execute_reply.started": "2021-05-12T04:31:33.689205Z"
    },
    "tags": []
   },
   "outputs": [],
   "source": [
    "import numpy as np \n",
    "import os \n",
    "import tensorflow as tf\n",
    "from tensorflow import keras \n",
    "import time \n",
    "import matplotlib.pyplot as plt"
   ]
  },
  {
   "cell_type": "code",
   "execution_count": 2,
   "metadata": {
    "execution": {
     "iopub.execute_input": "2021-05-12T04:31:46.659439Z",
     "iopub.status.busy": "2021-05-12T04:31:46.658438Z",
     "iopub.status.idle": "2021-05-12T04:31:46.702321Z",
     "shell.execute_reply": "2021-05-12T04:31:46.702321Z",
     "shell.execute_reply.started": "2021-05-12T04:31:46.659439Z"
    },
    "tags": []
   },
   "outputs": [
    {
     "name": "stdout",
     "output_type": "stream",
     "text": [
      "[name: \"/device:CPU:0\"\n",
      "device_type: \"CPU\"\n",
      "memory_limit: 268435456\n",
      "locality {\n",
      "}\n",
      "incarnation: 8610965057959598168\n",
      "]\n"
     ]
    }
   ],
   "source": [
    "from tensorflow.python.client import device_lib\n",
    "print(device_lib.list_local_devices())"
   ]
  },
  {
   "cell_type": "markdown",
   "metadata": {},
   "source": [
    "# 04-A. Load feature datasets\n",
    "* **`MobileNet_x_train_reshaped_210512.npy`**, **`MobileNet_x_test_reshaped_210512.npy`** : Data that throughed MobileNet and reshaped Numpy arrays\n",
    "* **`02_label_training_Numpy_210512.npy`**, **`02_label_test_Numpy_210512`** : Label Numpy arrays"
   ]
  },
  {
   "cell_type": "code",
   "execution_count": 3,
   "metadata": {
    "execution": {
     "iopub.execute_input": "2021-05-12T04:31:46.704315Z",
     "iopub.status.busy": "2021-05-12T04:31:46.704315Z",
     "iopub.status.idle": "2021-05-12T04:32:48.224673Z",
     "shell.execute_reply": "2021-05-12T04:32:48.224673Z",
     "shell.execute_reply.started": "2021-05-12T04:31:46.704315Z"
    },
    "tags": []
   },
   "outputs": [],
   "source": [
    "X_train_reshaped=np.load('D:/datasets/AllVideo_numpy_list_pickle/MobileNet_x_train_reshaped_210512.npy')\n",
    "#> (2878, 30, 25600)"
   ]
  },
  {
   "cell_type": "code",
   "execution_count": 4,
   "metadata": {
    "execution": {
     "iopub.execute_input": "2021-05-12T04:32:48.224673Z",
     "iopub.status.busy": "2021-05-12T04:32:48.224673Z",
     "iopub.status.idle": "2021-05-12T04:33:18.077701Z",
     "shell.execute_reply": "2021-05-12T04:33:18.077701Z",
     "shell.execute_reply.started": "2021-05-12T04:32:48.224673Z"
    },
    "tags": []
   },
   "outputs": [],
   "source": [
    "X_test_reshaped=np.load('D:/datasets/AllVideo_numpy_list_pickle/MobileNet_x_test_reshaped_210512.npy')\n",
    "#> (720, 30, 25600)"
   ]
  },
  {
   "cell_type": "code",
   "execution_count": 5,
   "metadata": {
    "execution": {
     "iopub.execute_input": "2021-05-12T04:33:18.077701Z",
     "iopub.status.busy": "2021-05-12T04:33:18.077701Z",
     "iopub.status.idle": "2021-05-12T04:33:18.202209Z",
     "shell.execute_reply": "2021-05-12T04:33:18.201458Z",
     "shell.execute_reply.started": "2021-05-12T04:33:18.077701Z"
    },
    "tags": []
   },
   "outputs": [],
   "source": [
    "y_train=np.load('D:/datasets/AllVideo_numpy_list_pickle/02_label_training_Numpy_210512.npy')\n",
    "#> (2878, 2) "
   ]
  },
  {
   "cell_type": "code",
   "execution_count": 6,
   "metadata": {
    "execution": {
     "iopub.execute_input": "2021-05-12T04:33:18.312259Z",
     "iopub.status.busy": "2021-05-12T04:33:18.312259Z",
     "iopub.status.idle": "2021-05-12T04:33:18.362064Z",
     "shell.execute_reply": "2021-05-12T04:33:18.362064Z",
     "shell.execute_reply.started": "2021-05-12T04:33:18.312259Z"
    },
    "tags": []
   },
   "outputs": [],
   "source": [
    "y_test=np.load('D:/datasets/AllVideo_numpy_list_pickle/02_label_test_Numpy_210512.npy')\n",
    "#> (720, 2)"
   ]
  },
  {
   "cell_type": "code",
   "execution_count": 7,
   "metadata": {
    "execution": {
     "iopub.execute_input": "2021-05-12T04:33:18.364071Z",
     "iopub.status.busy": "2021-05-12T04:33:18.364071Z",
     "iopub.status.idle": "2021-05-12T04:33:18.550502Z",
     "shell.execute_reply": "2021-05-12T04:33:18.549500Z",
     "shell.execute_reply.started": "2021-05-12T04:33:18.364071Z"
    },
    "tags": []
   },
   "outputs": [
    {
     "data": {
      "text/plain": [
       "((2878, 30, 25600), (720, 30, 25600))"
      ]
     },
     "execution_count": 7,
     "metadata": {},
     "output_type": "execute_result"
    }
   ],
   "source": [
    "X_train_reshaped.shape, X_test_reshaped.shape #> (# of video file, # of frame img, 25600)"
   ]
  },
  {
   "cell_type": "code",
   "execution_count": 8,
   "metadata": {
    "execution": {
     "iopub.execute_input": "2021-05-12T04:33:18.555484Z",
     "iopub.status.busy": "2021-05-12T04:33:18.555484Z",
     "iopub.status.idle": "2021-05-12T04:33:18.565457Z",
     "shell.execute_reply": "2021-05-12T04:33:18.565457Z",
     "shell.execute_reply.started": "2021-05-12T04:33:18.555484Z"
    },
    "tags": []
   },
   "outputs": [
    {
     "data": {
      "text/plain": [
       "((2878, 2), (720, 2))"
      ]
     },
     "execution_count": 8,
     "metadata": {},
     "output_type": "execute_result"
    }
   ],
   "source": [
    "y_train.shape, y_test.shape #> (# of video file, # of class)"
   ]
  },
  {
   "cell_type": "code",
   "execution_count": 9,
   "metadata": {
    "execution": {
     "iopub.execute_input": "2021-05-12T04:33:18.580427Z",
     "iopub.status.busy": "2021-05-12T04:33:18.579429Z",
     "iopub.status.idle": "2021-05-12T04:33:18.628418Z",
     "shell.execute_reply": "2021-05-12T04:33:18.628418Z",
     "shell.execute_reply.started": "2021-05-12T04:33:18.580427Z"
    },
    "tags": []
   },
   "outputs": [
    {
     "data": {
      "text/plain": [
       "array([[0, 1],\n",
       "       [1, 0],\n",
       "       [0, 1],\n",
       "       [1, 0],\n",
       "       [0, 1],\n",
       "       [0, 1],\n",
       "       [1, 0],\n",
       "       [0, 1],\n",
       "       [1, 0],\n",
       "       [1, 0],\n",
       "       [1, 0],\n",
       "       [1, 0],\n",
       "       [0, 1],\n",
       "       [0, 1],\n",
       "       [0, 1],\n",
       "       [1, 0],\n",
       "       [0, 1],\n",
       "       [1, 0],\n",
       "       [0, 1],\n",
       "       [0, 1]])"
      ]
     },
     "execution_count": 9,
     "metadata": {},
     "output_type": "execute_result"
    }
   ],
   "source": [
    "y_train[10:30]"
   ]
  },
  {
   "cell_type": "markdown",
   "metadata": {},
   "source": [
    "# 04-B. Create LSTM Model\n",
    "* **`chunk_size`** : 5x5x1024\n",
    "* **`n_chunks`** : fps. # of frame img per second"
   ]
  },
  {
   "cell_type": "code",
   "execution_count": 10,
   "metadata": {
    "execution": {
     "iopub.execute_input": "2021-05-12T04:33:18.629388Z",
     "iopub.status.busy": "2021-05-12T04:33:18.629388Z",
     "iopub.status.idle": "2021-05-12T04:33:20.585947Z",
     "shell.execute_reply": "2021-05-12T04:33:20.585947Z",
     "shell.execute_reply.started": "2021-05-12T04:33:18.629388Z"
    },
    "tags": []
   },
   "outputs": [],
   "source": [
    "chunk_size=25600\n",
    "n_chunks=30\n",
    "\n",
    "model=keras.models.Sequential()\n",
    "model.add(keras.layers.LSTM(512, input_shape=(n_chunks, chunk_size))) # (30, 25600)\n",
    "model.add(keras.layers.Dense(1024))\n",
    "model.add(keras.layers.Activation('relu'))\n",
    "model.add(keras.layers.Dense(256))\n",
    "model.add(keras.layers.Activation('sigmoid'))\n",
    "model.add(keras.layers.Dense(2))\n",
    "model.add(keras.layers.Activation('softmax'))"
   ]
  },
  {
   "cell_type": "code",
   "execution_count": 11,
   "metadata": {
    "execution": {
     "iopub.execute_input": "2021-05-12T04:33:20.585947Z",
     "iopub.status.busy": "2021-05-12T04:33:20.585947Z",
     "iopub.status.idle": "2021-05-12T04:33:20.602061Z",
     "shell.execute_reply": "2021-05-12T04:33:20.602061Z",
     "shell.execute_reply.started": "2021-05-12T04:33:20.585947Z"
    },
    "tags": []
   },
   "outputs": [],
   "source": [
    "model.compile(loss='mean_squared_error', optimizer='adam', metrics=['accuracy'])"
   ]
  },
  {
   "cell_type": "code",
   "execution_count": 12,
   "metadata": {
    "execution": {
     "iopub.execute_input": "2021-05-12T04:33:20.603059Z",
     "iopub.status.busy": "2021-05-12T04:33:20.603059Z",
     "iopub.status.idle": "2021-05-12T04:33:20.617033Z",
     "shell.execute_reply": "2021-05-12T04:33:20.617033Z",
     "shell.execute_reply.started": "2021-05-12T04:33:20.603059Z"
    },
    "tags": []
   },
   "outputs": [
    {
     "name": "stdout",
     "output_type": "stream",
     "text": [
      "Model: \"sequential\"\n",
      "_________________________________________________________________\n",
      "Layer (type)                 Output Shape              Param #   \n",
      "=================================================================\n",
      "lstm (LSTM)                  (None, 512)               53479424  \n",
      "_________________________________________________________________\n",
      "dense (Dense)                (None, 1024)              525312    \n",
      "_________________________________________________________________\n",
      "activation (Activation)      (None, 1024)              0         \n",
      "_________________________________________________________________\n",
      "dense_1 (Dense)              (None, 256)               262400    \n",
      "_________________________________________________________________\n",
      "activation_1 (Activation)    (None, 256)               0         \n",
      "_________________________________________________________________\n",
      "dense_2 (Dense)              (None, 2)                 514       \n",
      "_________________________________________________________________\n",
      "activation_2 (Activation)    (None, 2)                 0         \n",
      "=================================================================\n",
      "Total params: 54,267,650\n",
      "Trainable params: 54,267,650\n",
      "Non-trainable params: 0\n",
      "_________________________________________________________________\n"
     ]
    }
   ],
   "source": [
    "model.summary()"
   ]
  },
  {
   "cell_type": "code",
   "execution_count": 13,
   "metadata": {
    "execution": {
     "iopub.execute_input": "2021-05-12T04:33:20.618031Z",
     "iopub.status.busy": "2021-05-12T04:33:20.618031Z",
     "iopub.status.idle": "2021-05-12T04:33:25.212369Z",
     "shell.execute_reply": "2021-05-12T04:33:25.212369Z",
     "shell.execute_reply.started": "2021-05-12T04:33:20.618031Z"
    },
    "tags": []
   },
   "outputs": [
    {
     "data": {
      "image/png": "[encoded data removed]",
      "text/plain": [
       "<IPython.core.display.Image object>"
      ]
     },
     "execution_count": 13,
     "metadata": {},
     "output_type": "execute_result"
    }
   ],
   "source": [
    "keras.utils.plot_model(model, show_shapes=True)"
   ]
  },
  {
   "cell_type": "markdown",
   "metadata": {},
   "source": [
    "# 04-C. Define Callbacks"
   ]
  },
  {
   "cell_type": "code",
   "execution_count": 14,
   "metadata": {
    "execution": {
     "iopub.execute_input": "2021-05-12T04:33:25.213337Z",
     "iopub.status.busy": "2021-05-12T04:33:25.213337Z",
     "iopub.status.idle": "2021-05-12T04:33:25.228297Z",
     "shell.execute_reply": "2021-05-12T04:33:25.228297Z",
     "shell.execute_reply.started": "2021-05-12T04:33:25.213337Z"
    },
    "tags": []
   },
   "outputs": [],
   "source": [
    "checkpoint_cb=keras.callbacks.ModelCheckpoint('210512_MobileNet_checkpoint_epoch100.h5', save_best_only=True)"
   ]
  },
  {
   "cell_type": "markdown",
   "metadata": {},
   "source": [
    "# 04-D. Train LSTM Model"
   ]
  },
  {
   "cell_type": "code",
   "execution_count": 15,
   "metadata": {
    "execution": {
     "iopub.execute_input": "2021-05-12T04:33:25.229295Z",
     "iopub.status.busy": "2021-05-12T04:33:25.229295Z",
     "iopub.status.idle": "2021-05-12T04:33:25.244254Z",
     "shell.execute_reply": "2021-05-12T04:33:25.244254Z",
     "shell.execute_reply.started": "2021-05-12T04:33:25.229295Z"
    },
    "tags": []
   },
   "outputs": [],
   "source": [
    "np.random.seed(42)"
   ]
  },
  {
   "cell_type": "code",
   "execution_count": 16,
   "metadata": {
    "execution": {
     "iopub.execute_input": "2021-05-12T04:33:25.245252Z",
     "iopub.status.busy": "2021-05-12T04:33:25.245252Z",
     "iopub.status.idle": "2021-05-12T06:08:15.040290Z",
     "shell.execute_reply": "2021-05-12T06:08:15.035206Z",
     "shell.execute_reply.started": "2021-05-12T04:33:25.245252Z"
    },
    "tags": []
   },
   "outputs": [
    {
     "name": "stdout",
     "output_type": "stream",
     "text": [
      "Epoch 1/100\n",
      "5/5 - 135s - loss: 0.2837 - accuracy: 0.5590 - val_loss: 0.1918 - val_accuracy: 0.7044\n",
      "Epoch 2/100\n",
      "5/5 - 51s - loss: 0.2004 - accuracy: 0.6867 - val_loss: 0.1761 - val_accuracy: 0.7326\n",
      "Epoch 3/100\n",
      "5/5 - 61s - loss: 0.1583 - accuracy: 0.7724 - val_loss: 0.1619 - val_accuracy: 0.7571\n",
      "Epoch 4/100\n",
      "5/5 - 58s - loss: 0.1392 - accuracy: 0.8000 - val_loss: 0.1533 - val_accuracy: 0.7571\n",
      "Epoch 5/100\n",
      "5/5 - 58s - loss: 0.1092 - accuracy: 0.8543 - val_loss: 0.1419 - val_accuracy: 0.7918\n",
      "Epoch 6/100\n",
      "5/5 - 63s - loss: 0.0755 - accuracy: 0.9076 - val_loss: 0.1397 - val_accuracy: 0.8059\n",
      "Epoch 7/100\n",
      "5/5 - 59s - loss: 0.0497 - accuracy: 0.9452 - val_loss: 0.1296 - val_accuracy: 0.8226\n",
      "Epoch 8/100\n",
      "5/5 - 58s - loss: 0.0288 - accuracy: 0.9710 - val_loss: 0.1391 - val_accuracy: 0.8136\n",
      "Epoch 9/100\n",
      "5/5 - 58s - loss: 0.0186 - accuracy: 0.9819 - val_loss: 0.1451 - val_accuracy: 0.7995\n",
      "Epoch 10/100\n",
      "5/5 - 57s - loss: 0.0161 - accuracy: 0.9848 - val_loss: 0.1625 - val_accuracy: 0.8033\n",
      "Epoch 11/100\n",
      "5/5 - 61s - loss: 0.0251 - accuracy: 0.9686 - val_loss: 0.1566 - val_accuracy: 0.8136\n",
      "Epoch 12/100\n",
      "5/5 - 57s - loss: 0.0141 - accuracy: 0.9824 - val_loss: 0.1521 - val_accuracy: 0.8033\n",
      "Epoch 13/100\n",
      "5/5 - 58s - loss: 0.0111 - accuracy: 0.9876 - val_loss: 0.1516 - val_accuracy: 0.8059\n",
      "Epoch 14/100\n",
      "5/5 - 59s - loss: 0.0072 - accuracy: 0.9933 - val_loss: 0.1480 - val_accuracy: 0.8162\n",
      "Epoch 15/100\n",
      "5/5 - 58s - loss: 0.0042 - accuracy: 0.9976 - val_loss: 0.1457 - val_accuracy: 0.8175\n",
      "Epoch 16/100\n",
      "5/5 - 57s - loss: 0.0038 - accuracy: 0.9957 - val_loss: 0.1438 - val_accuracy: 0.8213\n",
      "Epoch 17/100\n",
      "5/5 - 57s - loss: 0.0031 - accuracy: 0.9981 - val_loss: 0.1514 - val_accuracy: 0.8201\n",
      "Epoch 18/100\n",
      "5/5 - 57s - loss: 0.0029 - accuracy: 0.9976 - val_loss: 0.1438 - val_accuracy: 0.8290\n",
      "Epoch 19/100\n",
      "5/5 - 54s - loss: 0.0022 - accuracy: 0.9981 - val_loss: 0.1451 - val_accuracy: 0.8278\n",
      "Epoch 20/100\n",
      "5/5 - 56s - loss: 0.0021 - accuracy: 0.9976 - val_loss: 0.1492 - val_accuracy: 0.8188\n",
      "Epoch 21/100\n",
      "5/5 - 55s - loss: 0.0018 - accuracy: 0.9981 - val_loss: 0.1467 - val_accuracy: 0.8252\n",
      "Epoch 22/100\n",
      "5/5 - 56s - loss: 0.0015 - accuracy: 0.9981 - val_loss: 0.1467 - val_accuracy: 0.8252\n",
      "Epoch 23/100\n",
      "5/5 - 53s - loss: 0.0015 - accuracy: 0.9986 - val_loss: 0.1499 - val_accuracy: 0.8162\n",
      "Epoch 24/100\n",
      "5/5 - 52s - loss: 0.0013 - accuracy: 0.9981 - val_loss: 0.1499 - val_accuracy: 0.8162\n",
      "Epoch 25/100\n",
      "5/5 - 54s - loss: 0.0015 - accuracy: 0.9986 - val_loss: 0.1526 - val_accuracy: 0.8098\n",
      "Epoch 26/100\n",
      "5/5 - 57s - loss: 0.0012 - accuracy: 0.9990 - val_loss: 0.1503 - val_accuracy: 0.8226\n",
      "Epoch 27/100\n",
      "5/5 - 57s - loss: 0.0011 - accuracy: 0.9990 - val_loss: 0.1504 - val_accuracy: 0.8201\n",
      "Epoch 28/100\n",
      "5/5 - 58s - loss: 0.0011 - accuracy: 0.9990 - val_loss: 0.1490 - val_accuracy: 0.8265\n",
      "Epoch 29/100\n",
      "5/5 - 55s - loss: 9.9658e-04 - accuracy: 0.9990 - val_loss: 0.1489 - val_accuracy: 0.8226\n",
      "Epoch 30/100\n",
      "5/5 - 52s - loss: 8.8877e-04 - accuracy: 0.9990 - val_loss: 0.1491 - val_accuracy: 0.8239\n",
      "Epoch 31/100\n",
      "5/5 - 53s - loss: 8.9026e-04 - accuracy: 0.9990 - val_loss: 0.1495 - val_accuracy: 0.8213\n",
      "Epoch 32/100\n",
      "5/5 - 54s - loss: 8.2246e-04 - accuracy: 0.9990 - val_loss: 0.1495 - val_accuracy: 0.8239\n",
      "Epoch 33/100\n",
      "5/5 - 56s - loss: 7.6954e-04 - accuracy: 0.9990 - val_loss: 0.1493 - val_accuracy: 0.8201\n",
      "Epoch 34/100\n",
      "5/5 - 57s - loss: 8.1257e-04 - accuracy: 0.9990 - val_loss: 0.1494 - val_accuracy: 0.8226\n",
      "Epoch 35/100\n",
      "5/5 - 56s - loss: 7.2577e-04 - accuracy: 0.9990 - val_loss: 0.1495 - val_accuracy: 0.8239\n",
      "Epoch 36/100\n",
      "5/5 - 56s - loss: 9.6788e-04 - accuracy: 0.9990 - val_loss: 0.1498 - val_accuracy: 0.8252\n",
      "Epoch 37/100\n",
      "5/5 - 60s - loss: 8.0451e-04 - accuracy: 0.9990 - val_loss: 0.1492 - val_accuracy: 0.8239\n",
      "Epoch 38/100\n",
      "5/5 - 56s - loss: 8.8518e-04 - accuracy: 0.9990 - val_loss: 0.1495 - val_accuracy: 0.8265\n",
      "Epoch 39/100\n",
      "5/5 - 58s - loss: 7.1017e-04 - accuracy: 0.9990 - val_loss: 0.1500 - val_accuracy: 0.8265\n",
      "Epoch 40/100\n",
      "5/5 - 55s - loss: 8.2561e-04 - accuracy: 0.9986 - val_loss: 0.1493 - val_accuracy: 0.8226\n",
      "Epoch 41/100\n",
      "5/5 - 55s - loss: 9.1900e-04 - accuracy: 0.9990 - val_loss: 0.1527 - val_accuracy: 0.8162\n",
      "Epoch 42/100\n",
      "5/5 - 53s - loss: 0.0010 - accuracy: 0.9990 - val_loss: 0.1508 - val_accuracy: 0.8239\n",
      "Epoch 43/100\n",
      "5/5 - 56s - loss: 8.2100e-04 - accuracy: 0.9990 - val_loss: 0.1498 - val_accuracy: 0.8226\n",
      "Epoch 44/100\n",
      "5/5 - 52s - loss: 7.8321e-04 - accuracy: 0.9990 - val_loss: 0.1506 - val_accuracy: 0.8226\n",
      "Epoch 45/100\n",
      "5/5 - 52s - loss: 7.9660e-04 - accuracy: 0.9990 - val_loss: 0.1506 - val_accuracy: 0.8239\n",
      "Epoch 46/100\n",
      "5/5 - 54s - loss: 7.6951e-04 - accuracy: 0.9990 - val_loss: 0.1506 - val_accuracy: 0.8213\n",
      "Epoch 47/100\n",
      "5/5 - 56s - loss: 7.2370e-04 - accuracy: 0.9990 - val_loss: 0.1510 - val_accuracy: 0.8239\n",
      "Epoch 48/100\n",
      "5/5 - 53s - loss: 6.5393e-04 - accuracy: 0.9990 - val_loss: 0.1510 - val_accuracy: 0.8226\n",
      "Epoch 49/100\n",
      "5/5 - 57s - loss: 6.7484e-04 - accuracy: 0.9990 - val_loss: 0.1511 - val_accuracy: 0.8226\n",
      "Epoch 50/100\n",
      "5/5 - 55s - loss: 6.8757e-04 - accuracy: 0.9990 - val_loss: 0.1511 - val_accuracy: 0.8239\n",
      "Epoch 51/100\n",
      "5/5 - 59s - loss: 6.3705e-04 - accuracy: 0.9990 - val_loss: 0.1512 - val_accuracy: 0.8226\n",
      "Epoch 52/100\n",
      "5/5 - 59s - loss: 5.8597e-04 - accuracy: 0.9990 - val_loss: 0.1518 - val_accuracy: 0.8252\n",
      "Epoch 53/100\n",
      "5/5 - 59s - loss: 6.4690e-04 - accuracy: 0.9990 - val_loss: 0.1521 - val_accuracy: 0.8252\n",
      "Epoch 54/100\n",
      "5/5 - 57s - loss: 6.5107e-04 - accuracy: 0.9990 - val_loss: 0.1518 - val_accuracy: 0.8252\n",
      "Epoch 55/100\n",
      "5/5 - 56s - loss: 6.2405e-04 - accuracy: 0.9990 - val_loss: 0.1516 - val_accuracy: 0.8226\n",
      "Epoch 56/100\n",
      "5/5 - 52s - loss: 7.0684e-04 - accuracy: 0.9981 - val_loss: 0.1523 - val_accuracy: 0.8252\n",
      "Epoch 57/100\n",
      "5/5 - 54s - loss: 8.4515e-04 - accuracy: 0.9990 - val_loss: 0.1564 - val_accuracy: 0.8175\n",
      "Epoch 58/100\n",
      "5/5 - 53s - loss: 8.8177e-04 - accuracy: 0.9990 - val_loss: 0.1528 - val_accuracy: 0.8252\n",
      "Epoch 59/100\n",
      "5/5 - 55s - loss: 6.1203e-04 - accuracy: 0.9990 - val_loss: 0.1517 - val_accuracy: 0.8226\n",
      "Epoch 60/100\n",
      "5/5 - 58s - loss: 7.2398e-04 - accuracy: 0.9986 - val_loss: 0.1522 - val_accuracy: 0.8239\n",
      "Epoch 61/100\n",
      "5/5 - 56s - loss: 6.7419e-04 - accuracy: 0.9986 - val_loss: 0.1521 - val_accuracy: 0.8265\n",
      "Epoch 62/100\n",
      "5/5 - 56s - loss: 6.2542e-04 - accuracy: 0.9990 - val_loss: 0.1532 - val_accuracy: 0.8239\n",
      "Epoch 63/100\n",
      "5/5 - 54s - loss: 7.8690e-04 - accuracy: 0.9990 - val_loss: 0.1547 - val_accuracy: 0.8239\n",
      "Epoch 64/100\n",
      "5/5 - 57s - loss: 7.6810e-04 - accuracy: 0.9990 - val_loss: 0.1527 - val_accuracy: 0.8239\n",
      "Epoch 65/100\n",
      "5/5 - 55s - loss: 6.6963e-04 - accuracy: 0.9990 - val_loss: 0.1520 - val_accuracy: 0.8265\n",
      "Epoch 66/100\n",
      "5/5 - 58s - loss: 6.8329e-04 - accuracy: 0.9990 - val_loss: 0.1527 - val_accuracy: 0.8265\n",
      "Epoch 67/100\n",
      "5/5 - 53s - loss: 6.3712e-04 - accuracy: 0.9990 - val_loss: 0.1529 - val_accuracy: 0.8239\n",
      "Epoch 68/100\n",
      "5/5 - 58s - loss: 6.5190e-04 - accuracy: 0.9990 - val_loss: 0.1532 - val_accuracy: 0.8252\n",
      "Epoch 69/100\n",
      "5/5 - 55s - loss: 7.8404e-04 - accuracy: 0.9990 - val_loss: 0.1560 - val_accuracy: 0.8149\n",
      "Epoch 70/100\n",
      "5/5 - 58s - loss: 8.0854e-04 - accuracy: 0.9990 - val_loss: 0.1541 - val_accuracy: 0.8252\n",
      "Epoch 71/100\n",
      "5/5 - 53s - loss: 6.8945e-04 - accuracy: 0.9990 - val_loss: 0.1533 - val_accuracy: 0.8226\n",
      "Epoch 72/100\n",
      "5/5 - 54s - loss: 6.4613e-04 - accuracy: 0.9990 - val_loss: 0.1531 - val_accuracy: 0.8226\n",
      "Epoch 73/100\n",
      "5/5 - 51s - loss: 6.5515e-04 - accuracy: 0.9990 - val_loss: 0.1530 - val_accuracy: 0.8252\n",
      "Epoch 74/100\n",
      "5/5 - 53s - loss: 6.8032e-04 - accuracy: 0.9990 - val_loss: 0.1529 - val_accuracy: 0.8239\n",
      "Epoch 75/100\n",
      "5/5 - 58s - loss: 6.5892e-04 - accuracy: 0.9990 - val_loss: 0.1537 - val_accuracy: 0.8265\n",
      "Epoch 76/100\n",
      "5/5 - 59s - loss: 6.8666e-04 - accuracy: 0.9990 - val_loss: 0.1540 - val_accuracy: 0.8265\n",
      "Epoch 77/100\n",
      "5/5 - 56s - loss: 6.1509e-04 - accuracy: 0.9990 - val_loss: 0.1570 - val_accuracy: 0.8149\n",
      "Epoch 78/100\n",
      "5/5 - 53s - loss: 8.3014e-04 - accuracy: 0.9990 - val_loss: 0.1561 - val_accuracy: 0.8175\n",
      "Epoch 79/100\n",
      "5/5 - 57s - loss: 7.0599e-04 - accuracy: 0.9990 - val_loss: 0.1527 - val_accuracy: 0.8278\n",
      "Epoch 80/100\n",
      "5/5 - 53s - loss: 0.0013 - accuracy: 0.9981 - val_loss: 0.1529 - val_accuracy: 0.8252\n",
      "Epoch 81/100\n",
      "5/5 - 56s - loss: 0.0011 - accuracy: 0.9986 - val_loss: 0.1549 - val_accuracy: 0.8201\n",
      "Epoch 82/100\n",
      "5/5 - 55s - loss: 6.9226e-04 - accuracy: 0.9990 - val_loss: 0.1585 - val_accuracy: 0.8136\n",
      "Epoch 83/100\n",
      "5/5 - 56s - loss: 7.9741e-04 - accuracy: 0.9990 - val_loss: 0.1528 - val_accuracy: 0.8239\n",
      "Epoch 84/100\n",
      "5/5 - 55s - loss: 6.5149e-04 - accuracy: 0.9990 - val_loss: 0.1513 - val_accuracy: 0.8278\n",
      "Epoch 85/100\n",
      "5/5 - 54s - loss: 0.0013 - accuracy: 0.9986 - val_loss: 0.1509 - val_accuracy: 0.8226\n",
      "Epoch 86/100\n",
      "5/5 - 55s - loss: 0.0012 - accuracy: 0.9986 - val_loss: 0.1533 - val_accuracy: 0.8278\n",
      "Epoch 87/100\n",
      "5/5 - 56s - loss: 6.9241e-04 - accuracy: 0.9986 - val_loss: 0.1601 - val_accuracy: 0.8162\n",
      "Epoch 88/100\n",
      "5/5 - 55s - loss: 7.9720e-04 - accuracy: 0.9990 - val_loss: 0.1582 - val_accuracy: 0.8149\n",
      "Epoch 89/100\n",
      "5/5 - 56s - loss: 6.1434e-04 - accuracy: 0.9990 - val_loss: 0.1543 - val_accuracy: 0.8239\n",
      "Epoch 90/100\n",
      "5/5 - 56s - loss: 0.0016 - accuracy: 0.9986 - val_loss: 0.1537 - val_accuracy: 0.8175\n",
      "Epoch 91/100\n",
      "5/5 - 57s - loss: 0.0012 - accuracy: 0.9986 - val_loss: 0.1578 - val_accuracy: 0.8123\n",
      "Epoch 92/100\n",
      "5/5 - 55s - loss: 4.9135e-04 - accuracy: 1.0000 - val_loss: 0.1640 - val_accuracy: 0.8136\n",
      "Epoch 93/100\n",
      "5/5 - 58s - loss: 9.4369e-04 - accuracy: 0.9990 - val_loss: 0.1618 - val_accuracy: 0.8149\n",
      "Epoch 94/100\n",
      "5/5 - 57s - loss: 5.9878e-04 - accuracy: 0.9990 - val_loss: 0.1537 - val_accuracy: 0.8265\n",
      "Epoch 95/100\n",
      "5/5 - 56s - loss: 0.0016 - accuracy: 0.9986 - val_loss: 0.1588 - val_accuracy: 0.8162\n",
      "Epoch 96/100\n",
      "5/5 - 58s - loss: 0.0015 - accuracy: 0.9986 - val_loss: 0.1553 - val_accuracy: 0.8226\n",
      "Epoch 97/100\n",
      "5/5 - 56s - loss: 0.0010 - accuracy: 0.9986 - val_loss: 0.1624 - val_accuracy: 0.8149\n",
      "Epoch 98/100\n",
      "5/5 - 55s - loss: 0.0011 - accuracy: 0.9986 - val_loss: 0.1539 - val_accuracy: 0.8252\n",
      "Epoch 99/100\n",
      "5/5 - 56s - loss: 0.0012 - accuracy: 0.9986 - val_loss: 0.1525 - val_accuracy: 0.8265\n",
      "Epoch 100/100\n",
      "5/5 - 50s - loss: 0.0012 - accuracy: 0.9986 - val_loss: 0.1556 - val_accuracy: 0.8213\n"
     ]
    }
   ],
   "source": [
    "epoch=100\n",
    "batchS=500\n",
    "history=model.fit(x=X_train_reshaped[0:2100], y=y_train[0:2100],\n",
    "                  epochs=epoch,\n",
    "                  validation_data=(X_train_reshaped[2100:], y_train[2100:]),\n",
    "                  callbacks=[checkpoint_cb],\n",
    "                  batch_size=batchS, verbose=2)"
   ]
  },
  {
   "cell_type": "markdown",
   "metadata": {},
   "source": [
    "# 04-E. Evaluate trained LSTM Model"
   ]
  },
  {
   "cell_type": "markdown",
   "metadata": {},
   "source": [
    "## 1. Evaluate LSTM Model by using test set"
   ]
  },
  {
   "cell_type": "code",
   "execution_count": 17,
   "metadata": {
    "execution": {
     "iopub.execute_input": "2021-05-12T06:08:15.060736Z",
     "iopub.status.busy": "2021-05-12T06:08:15.059737Z",
     "iopub.status.idle": "2021-05-12T06:08:36.554235Z",
     "shell.execute_reply": "2021-05-12T06:08:36.554235Z",
     "shell.execute_reply.started": "2021-05-12T06:08:15.060736Z"
    },
    "tags": []
   },
   "outputs": [
    {
     "name": "stdout",
     "output_type": "stream",
     "text": [
      "23/23 [==============================] - 21s 893ms/step - loss: 0.1390 - accuracy: 0.8319\n"
     ]
    }
   ],
   "source": [
    "result=model.evaluate(X_test_reshaped, y_test)"
   ]
  },
  {
   "cell_type": "markdown",
   "metadata": {},
   "source": [
    " ## 2. Accuracy & Loss of trained LSTM Model"
   ]
  },
  {
   "cell_type": "code",
   "execution_count": 18,
   "metadata": {
    "execution": {
     "iopub.execute_input": "2021-05-12T06:08:36.554235Z",
     "iopub.status.busy": "2021-05-12T06:08:36.554235Z",
     "iopub.status.idle": "2021-05-12T06:08:36.570042Z",
     "shell.execute_reply": "2021-05-12T06:08:36.570042Z",
     "shell.execute_reply.started": "2021-05-12T06:08:36.554235Z"
    },
    "tags": []
   },
   "outputs": [
    {
     "name": "stdout",
     "output_type": "stream",
     "text": [
      "loss 0.13901832699775696\n",
      "accuracy 0.831944465637207\n"
     ]
    }
   ],
   "source": [
    "for name, value in zip(model.metrics_names, result):\n",
    "    print(name, value)"
   ]
  },
  {
   "cell_type": "markdown",
   "metadata": {},
   "source": [
    "## 3. Draw plot of Accuracy & Loss"
   ]
  },
  {
   "cell_type": "code",
   "execution_count": 19,
   "metadata": {
    "execution": {
     "iopub.execute_input": "2021-05-12T06:08:36.572037Z",
     "iopub.status.busy": "2021-05-12T06:08:36.572037Z",
     "iopub.status.idle": "2021-05-12T06:08:37.642049Z",
     "shell.execute_reply": "2021-05-12T06:08:37.642049Z",
     "shell.execute_reply.started": "2021-05-12T06:08:36.572037Z"
    },
    "tags": []
   },
   "outputs": [
    {
     "data": {
      "image/png": "[encoded data removed]",
      "text/plain": [
       "<Figure size 432x288 with 1 Axes>"
      ]
     },
     "metadata": {
      "needs_background": "light"
     },
     "output_type": "display_data"
    },
    {
     "data": {
      "image/png": "[encoded data removed]",
      "text/plain": [
       "<Figure size 432x288 with 1 Axes>"
      ]
     },
     "metadata": {
      "needs_background": "light"
     },
     "output_type": "display_data"
    }
   ],
   "source": [
    "plt.plot(history.history['val_accuracy']) # Draw Accuracy plot\n",
    "plt.title('model accuracy')\n",
    "plt.ylabel('accuracy')\n",
    "plt.xlabel('epoch')\n",
    "plt.legend(['validation'], loc='upper left')\n",
    "plt.savefig('210512_MobileNet_model_accuracy_epoch100.jpg') #save .jpg img of Accuracy plot\n",
    "plt.show()\n",
    "\n",
    "plt.plot(history.history['loss']) # Draw Loss plot\n",
    "plt.plot(history.history['val_loss'])\n",
    "plt.title('model loss')\n",
    "plt.ylabel('loss')\n",
    "plt.xlabel('epoch')\n",
    "plt.legend(['train', 'validation'], loc='upper left')\n",
    "plt.savefig('210512_MobileNet_model_loss_epoch100.jpg') #save .jpg img of Loss plot\n",
    "plt.show()"
   ]
  },
  {
   "cell_type": "markdown",
   "metadata": {},
   "source": [
    "# 04-F. Save Model File\n",
    "* You can use this .h5 model file in other code file."
   ]
  },
  {
   "cell_type": "code",
   "execution_count": 20,
   "metadata": {
    "execution": {
     "iopub.execute_input": "2021-05-12T06:08:37.642049Z",
     "iopub.status.busy": "2021-05-12T06:08:37.642049Z",
     "iopub.status.idle": "2021-05-12T06:08:39.708929Z",
     "shell.execute_reply": "2021-05-12T06:08:39.708929Z",
     "shell.execute_reply.started": "2021-05-12T06:08:37.642049Z"
    },
    "tags": []
   },
   "outputs": [],
   "source": [
    "model.save('210512_MobileNet_model_epoch100.h5', include_optimizer=True)"
   ]
  }
 ],
 "metadata": {
  "kernelspec": {
   "display_name": "Python 3",
   "language": "python",
   "name": "python3"
  },
  "language_info": {
   "codemirror_mode": {
    "name": "ipython",
    "version": 3
   },
   "file_extension": ".py",
   "mimetype": "text/x-python",
   "name": "python",
   "nbconvert_exporter": "python",
   "pygments_lexer": "ipython3",
   "version": "3.8.5"
  }
 },
 "nbformat": 4,
 "nbformat_minor": 4
}
