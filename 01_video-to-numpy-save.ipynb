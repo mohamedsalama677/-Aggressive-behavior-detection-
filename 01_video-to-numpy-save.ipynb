{
 "cells": [
  {
   "cell_type": "markdown",
   "metadata": {},
   "source": [
    "# 01. Transforming Video file(.avi) to 160*160 size, 30 framesss Numpy array(.npy)\n",
    "* **Purpose of this Code** : Making train set & test set to train and evaluate Model\n",
    "* **`Please!`** **Before Run this code, You should separate your videos to Fight folder / NonFight Folder**\n",
    "* **`Output=.pickle`** : Very Large file.(Mabye about 30~50GB at each one?)\n",
    "    * Please check your drive capacity, before run this code!"
   ]
  },
  {
   "cell_type": "markdown",
   "metadata": {},
   "source": [
    "# Imports"
   ]
  },
  {
   "cell_type": "code",
   "execution_count": 2,
   "metadata": {
    "id": "zo19mACbtiji",
    "tags": []
   },
   "outputs": [],
   "source": [
    "import os\n",
    "import pickle # save list as .pickle\n",
    "import numpy as np\n",
    "from tqdm import tqdm\n",
    "import cv2 # read video file\n",
    "from skimage.transform import resize # resizing images"
   ]
  },
  {
   "cell_type": "markdown",
   "metadata": {},
   "source": [
    "# 01-A. Transform video files to Numpy array"
   ]
  },
  {
   "cell_type": "code",
   "execution_count": 3,
   "metadata": {
    "id": "badw1e8Cs3xa",
    "tags": []
   },
   "outputs": [],
   "source": [
    "def Save2Npy(file_dir, save_dir):\n",
    "    \"\"\"This function loads videos, transforms each of them to a Numpy array, and saves them in the selected folder.\n",
    "    :: file_dir :: This folder has original video files.\n",
    "    :: save_dir :: You'll save transformed Numpy arrays in this folder.\n",
    "    \"\"\"\n",
    "    if not os.path.exists(save_dir):  # If there is no save_dir folder, then create a new folder there.\n",
    "        os.makedirs(save_dir)\n",
    "    \n",
    "    file_list = os.listdir(file_dir)  # Make a list of video file names in file_dir folder.\n",
    "    \n",
    "    for file in tqdm(file_list):\n",
    "        frames = np.zeros((30, 160, 160, 3), dtype=np.float64)\n",
    "        i = 0\n",
    "        \n",
    "        vid = cv2.VideoCapture(os.path.join(file_dir, file))  # Create cv2.VideoCapture() Object for each video file.\n",
    "        \n",
    "        while i < 30:\n",
    "            grabbed, frame = vid.read()\n",
    "            \n",
    "            if not grabbed:  # If the frame couldn't be read, break the loop\n",
    "                break\n",
    "                \n",
    "            frm = resize(frame, (160, 160, 3))\n",
    "            frm = np.expand_dims(frm, axis=0)\n",
    "            \n",
    "            if np.max(frm) > 1:\n",
    "                frm = frm / 255.0   ##normalization\n",
    "                \n",
    "            frames[i][:] = frm      ##access each frame in frames (columns and rows)\n",
    "            i += 1\n",
    "\n",
    "        vid.release()  # Release the VideoCapture object to free up resources\n",
    "\n",
    "        video_name = file.split('.')[0]\n",
    "        save_path = os.path.join(save_dir, video_name + '.npy')\n",
    "\n",
    "        np.save(save_path, frames)\n",
    "        \n",
    "    "
   ]
  },
  {
   "cell_type": "code",
   "execution_count": 4,
   "metadata": {
    "id": "QAQIBMa0twfe",
    "tags": []
   },
   "outputs": [],
   "source": [
    "file_dir='D:\\\\graduation project\\\\datasets\\\\RWF-2000 Dataset\\\\4-4data\\\\Fight' # Folder that have videos\n",
    "save_dir='D:\\\\graduation project\\\\datasets\\\\A-Dataset-for-Automatic-Violence-Detection-in-Videos\\\\violence-detection-dataset\\\\4-4 data\\\\numpy\\\\v'"
   ]
  },
  {
   "cell_type": "code",
   "execution_count": 5,
   "metadata": {
    "colab": {
     "base_uri": "https://localhost:8080/"
    },
    "executionInfo": {
     "elapsed": 43169,
     "status": "ok",
     "timestamp": 1619685813838,
     "user": {
      "displayName": "노혜원",
      "photoUrl": "",
      "userId": "17297828991528988184"
     },
     "user_tz": -540
    },
    "id": "ffcnzDeCyN3r",
    "outputId": "f39de57e-e854-46ce-936e-85579f2b4ef5",
    "tags": []
   },
   "outputs": [
    {
     "name": "stderr",
     "output_type": "stream",
     "text": [
      "  0%|          | 0/1000 [00:00<?, ?it/s]"
     ]
    },
    {
     "name": "stderr",
     "output_type": "stream",
     "text": [
      "  0%|          | 5/1000 [00:09<39:10,  2.36s/it]"
     ]
    }
   ],
   "source": [
    "Save2Npy(file_dir=file_dir, save_dir=save_dir)"
   ]
  },
  {
   "cell_type": "code",
   "execution_count": null,
   "metadata": {
    "execution": {
     "iopub.execute_input": "2021-05-07T01:56:51.559948Z",
     "iopub.status.busy": "2021-05-07T01:56:51.559948Z",
     "iopub.status.idle": "2021-05-07T01:56:51.575818Z",
     "shell.execute_reply": "2021-05-07T01:56:51.575818Z",
     "shell.execute_reply.started": "2021-05-07T01:56:51.559948Z"
    },
    "tags": []
   },
   "outputs": [],
   "source": [
    "file_dir='D:\\\\graduation project\\\\datasets\\\\RWF-2000 Dataset\\\\4-4data\\\\NonFight' # Folder that have videos\n",
    "save_dir='D:\\\\graduation project\\\\datasets\\\\A-Dataset-for-Automatic-Violence-Detection-in-Videos\\\\violence-detection-dataset\\\\4-4 data\\\\numpy\\\\nv'"
   ]
  },
  {
   "cell_type": "code",
   "execution_count": null,
   "metadata": {
    "execution": {
     "iopub.execute_input": "2021-05-07T01:56:51.576851Z",
     "iopub.status.busy": "2021-05-07T01:56:51.576851Z",
     "iopub.status.idle": "2021-05-07T01:59:48.116783Z",
     "shell.execute_reply": "2021-05-07T01:59:48.116783Z",
     "shell.execute_reply.started": "2021-05-07T01:56:51.576851Z"
    },
    "tags": []
   },
   "outputs": [
    {
     "name": "stderr",
     "output_type": "stream",
     "text": [
      "  0%|          | 0/1000 [00:00<?, ?it/s]"
     ]
    },
    {
     "name": "stderr",
     "output_type": "stream",
     "text": [
      "100%|██████████| 1000/1000 [26:26<00:00,  1.59s/it] \n"
     ]
    }
   ],
   "source": [
    "Save2Npy(file_dir=file_dir, save_dir=save_dir)"
   ]
  },
  {
   "cell_type": "markdown",
   "metadata": {
    "id": "DbDTCyEP1Sox"
   },
   "source": [
    "# 01-B. Make list of Numpy arrays"
   ]
  },
  {
   "cell_type": "markdown",
   "metadata": {},
   "source": [
    "## 1. Fight Videos"
   ]
  },
  {
   "cell_type": "code",
   "execution_count": 2,
   "metadata": {
    "colab": {
     "base_uri": "https://localhost:8080/"
    },
    "execution": {
     "iopub.execute_input": "2021-05-12T01:37:07.779720Z",
     "iopub.status.busy": "2021-05-12T01:37:07.778723Z",
     "iopub.status.idle": "2021-05-12T01:43:05.549673Z",
     "shell.execute_reply": "2021-05-12T01:43:05.548333Z",
     "shell.execute_reply.started": "2021-05-12T01:37:07.779720Z"
    },
    "executionInfo": {
     "elapsed": 2548,
     "status": "ok",
     "timestamp": 1619686496769,
     "user": {
      "displayName": "노혜원",
      "photoUrl": "",
      "userId": "17297828991528988184"
     },
     "user_tz": -540
    },
    "id": "2NpyhDVO0raO",
    "outputId": "38d35dc1-6af4-4c71-baa4-65a99f10f85d",
    "tags": []
   },
   "outputs": [
    {
     "name": "stdout",
     "output_type": "stream",
     "text": [
      "602\n"
     ]
    }
   ],
   "source": [
    "Fight_dir='D:\\\\graduation project\\\\datasets\\\\A-Dataset-for-Automatic-Violence-Detection-in-Videos\\\\violence-detection-dataset\\\\4-4 data\\\\numpy\\\\v' # Folder that contains Fight(Violence) Video files\n",
    "file_list_npy = os.listdir(Fight_dir) # File name list\n",
    "\n",
    "data_Fight=[]\n",
    "for file in file_list_npy:\n",
    "    file_path=os.path.join(Fight_dir, file) ##just paths\n",
    "    x=np.load(file_path)  ##loads the data from each file (array(frame))\n",
    "    data_Fight.append(x)\n",
    "\n",
    "print(len(data_Fight))\n"
   ]
  },
  {
   "cell_type": "markdown",
   "metadata": {},
   "source": [
    "## 2. NonFight Videos"
   ]
  },
  {
   "cell_type": "code",
   "execution_count": 3,
   "metadata": {
    "execution": {
     "iopub.execute_input": "2021-05-07T02:05:35.848276Z",
     "iopub.status.busy": "2021-05-07T02:05:35.847278Z",
     "iopub.status.idle": "2021-05-07T02:11:00.733880Z",
     "shell.execute_reply": "2021-05-07T02:11:00.729890Z",
     "shell.execute_reply.started": "2021-05-07T02:05:35.847278Z"
    },
    "tags": []
   },
   "outputs": [
    {
     "name": "stdout",
     "output_type": "stream",
     "text": [
      "601\n"
     ]
    }
   ],
   "source": [
    "NonFight_dir='D:\\\\graduation project\\\\datasets\\\\A-Dataset-for-Automatic-Violence-Detection-in-Videos\\\\violence-detection-dataset\\\\4-4 data\\\\numpy\\\\nv'\n",
    "file_list_npy=os.listdir(NonFight_dir)\n",
    "\n",
    "data_NonFight=[]\n",
    "for file in file_list_npy:\n",
    "    file_path=os.path.join(NonFight_dir, file)\n",
    "    x=np.load(file_path)\n",
    "    data_NonFight.append(x)\n",
    "\n",
    "print(len(data_NonFight))"
   ]
  },
  {
   "cell_type": "markdown",
   "metadata": {},
   "source": [
    "# 01-C. Save list as .pickle"
   ]
  },
  {
   "cell_type": "code",
   "execution_count": 4,
   "metadata": {
    "execution": {
     "iopub.execute_input": "2021-05-12T01:43:05.565294Z",
     "iopub.status.busy": "2021-05-12T01:43:05.565294Z",
     "iopub.status.idle": "2021-05-12T01:48:43.113500Z",
     "shell.execute_reply": "2021-05-12T01:48:43.099352Z",
     "shell.execute_reply.started": "2021-05-12T01:43:05.565294Z"
    },
    "tags": []
   },
   "outputs": [],
   "source": [
    "with open(\"D:\\\\graduation project\\\\datasets\\\\A-Dataset-for-Automatic-Violence-Detection-in-Videos\\\\violence-detection-dataset\\\\4-4 data\\\\pickle\\\\v\\\\v.pickle\",\"wb\") as fw:\n",
    "    pickle.dump(data_Fight, fw, protocol=pickle.HIGHEST_PROTOCOL)  ##Serializing (convert the data to byte stream)"
   ]
  },
  {
   "cell_type": "code",
   "execution_count": 28,
   "metadata": {
    "execution": {
     "iopub.execute_input": "2021-05-07T02:17:01.175596Z",
     "iopub.status.busy": "2021-05-07T02:17:01.175596Z",
     "iopub.status.idle": "2021-05-07T02:21:59.396154Z",
     "shell.execute_reply": "2021-05-07T02:21:59.385184Z",
     "shell.execute_reply.started": "2021-05-07T02:17:01.175596Z"
    },
    "tags": []
   },
   "outputs": [],
   "source": [
    "with open(\"D:\\\\graduation project\\\\datasets\\\\A-Dataset-for-Automatic-Violence-Detection-in-Videos\\\\violence-detection-dataset\\\\4-4 data\\\\pickle\\\\nv\\\\nv.pickle\",\"wb\") as fw:\n",
    "    pickle.dump(data_NonFight, fw, protocol=pickle.HIGHEST_PROTOCOL)"
   ]
  },
  {
   "cell_type": "markdown",
   "metadata": {},
   "source": [
    "# 01-D. Make & Save Label(Real Values) as .pickle\n",
    "> Memo\n",
    "```\n",
    "prediction=preds.argmax(axis=0):[0 0]\n",
    "Results =  [[0.09166703 0.9092251 ]]\n",
    "Maximun Probability =  0.9092251\n",
    "Difference of prob  0.8184502124786377\n",
    "Alert : violence - 90.92%\n",
    "```\n",
    "> labels1=[] : list of each video file's lavel(Fight/NonFight). \n",
    "> * Violence(Fight) : [0,1]\n",
    "> * Non-Violence(NonFight) : [1,0]"
   ]
  },
  {
   "cell_type": "markdown",
   "metadata": {},
   "source": [
    "## 1. Make Label list"
   ]
  },
  {
   "cell_type": "code",
   "execution_count": 4,
   "metadata": {
    "execution": {
     "iopub.execute_input": "2021-05-12T01:48:43.131808Z",
     "iopub.status.busy": "2021-05-12T01:48:43.131070Z",
     "iopub.status.idle": "2021-05-12T01:48:43.173974Z",
     "shell.execute_reply": "2021-05-12T01:48:43.172976Z",
     "shell.execute_reply.started": "2021-05-12T01:48:43.131808Z"
    },
    "tags": []
   },
   "outputs": [],
   "source": [
    "label_Fight_per_video=np.array([0,1])\n",
    "label_Fight=[label_Fight_per_video]*len(data_Fight) # As amount as count of Violence(Fight) Video"
   ]
  },
  {
   "cell_type": "code",
   "execution_count": 5,
   "metadata": {
    "execution": {
     "iopub.execute_input": "2021-05-07T02:21:59.445413Z",
     "iopub.status.busy": "2021-05-07T02:21:59.445413Z",
     "iopub.status.idle": "2021-05-07T02:21:59.463108Z",
     "shell.execute_reply": "2021-05-07T02:21:59.463108Z",
     "shell.execute_reply.started": "2021-05-07T02:21:59.445413Z"
    },
    "tags": []
   },
   "outputs": [],
   "source": [
    "label_NonFight_per_video=np.array([1,0])\n",
    "label_NonFight=[label_NonFight_per_video]*len(data_NonFight) # As amount as count of Non-Violence(NonFight) Video"
   ]
  },
  {
   "cell_type": "code",
   "execution_count": 6,
   "metadata": {
    "execution": {
     "iopub.execute_input": "2021-05-07T02:21:59.464122Z",
     "iopub.status.busy": "2021-05-07T02:21:59.464122Z",
     "iopub.status.idle": "2021-05-07T02:21:59.584647Z",
     "shell.execute_reply": "2021-05-07T02:21:59.583490Z",
     "shell.execute_reply.started": "2021-05-07T02:21:59.464122Z"
    },
    "tags": []
   },
   "outputs": [
    {
     "data": {
      "text/plain": [
       "(602, 601)"
      ]
     },
     "execution_count": 6,
     "metadata": {},
     "output_type": "execute_result"
    }
   ],
   "source": [
    "len(label_Fight), len(label_NonFight)"
   ]
  },
  {
   "cell_type": "code",
   "execution_count": 7,
   "metadata": {
    "execution": {
     "iopub.execute_input": "2021-05-07T02:21:59.586606Z",
     "iopub.status.busy": "2021-05-07T02:21:59.586606Z",
     "iopub.status.idle": "2021-05-07T02:21:59.614788Z",
     "shell.execute_reply": "2021-05-07T02:21:59.614788Z",
     "shell.execute_reply.started": "2021-05-07T02:21:59.586606Z"
    },
    "tags": []
   },
   "outputs": [
    {
     "data": {
      "text/plain": [
       "array([0, 1])"
      ]
     },
     "execution_count": 7,
     "metadata": {},
     "output_type": "execute_result"
    }
   ],
   "source": [
    "label_Fight[55]"
   ]
  },
  {
   "cell_type": "markdown",
   "metadata": {},
   "source": [
    "## 2. Save Label list as .pickle"
   ]
  },
  {
   "cell_type": "code",
   "execution_count": 30,
   "metadata": {
    "execution": {
     "iopub.execute_input": "2021-05-12T01:48:43.179021Z",
     "iopub.status.busy": "2021-05-12T01:48:43.179021Z",
     "iopub.status.idle": "2021-05-12T01:48:43.205109Z",
     "shell.execute_reply": "2021-05-12T01:48:43.205109Z",
     "shell.execute_reply.started": "2021-05-12T01:48:43.179021Z"
    },
    "tags": []
   },
   "outputs": [],
   "source": [
    "with open(\"D:\\\\graduation project\\\\datasets\\\\A-Dataset-for-Automatic-Violence-Detection-in-Videos\\\\violence-detection-dataset\\\\4-4 data\\\\pickle\\\\v\\\\label_v.pickle\",\"wb\") as fw:\n",
    "    pickle.dump(label_Fight, fw)"
   ]
  },
  {
   "cell_type": "code",
   "execution_count": 29,
   "metadata": {
    "execution": {
     "iopub.execute_input": "2021-05-07T02:21:59.631745Z",
     "iopub.status.busy": "2021-05-07T02:21:59.631745Z",
     "iopub.status.idle": "2021-05-07T02:21:59.661692Z",
     "shell.execute_reply": "2021-05-07T02:21:59.661692Z",
     "shell.execute_reply.started": "2021-05-07T02:21:59.631745Z"
    },
    "tags": []
   },
   "outputs": [],
   "source": [
    "with open(\"D:\\\\graduation project\\\\datasets\\\\A-Dataset-for-Automatic-Violence-Detection-in-Videos\\\\violence-detection-dataset\\\\4-4 data\\\\pickle\\\\nv\\\\label_nv.pickle\",\"wb\") as fw:\n",
    "    pickle.dump(label_NonFight, fw)"
   ]
  },
  {
   "cell_type": "markdown",
   "metadata": {},
   "source": [
    "## Notebook 2"
   ]
  },
  {
   "cell_type": "code",
   "execution_count": 8,
   "metadata": {},
   "outputs": [],
   "source": [
    "import numpy as np\n",
    "import pickle\n",
    "from random import shuffle"
   ]
  },
  {
   "cell_type": "code",
   "execution_count": 6,
   "metadata": {},
   "outputs": [
    {
     "ename": "SystemError",
     "evalue": "deallocated bytearray object has exported buffers",
     "output_type": "error",
     "traceback": [
      "\u001b[1;31m---------------------------------------------------------------------------\u001b[0m",
      "\u001b[1;31mSystemError\u001b[0m                               Traceback (most recent call last)",
      "\u001b[1;31mSystemError\u001b[0m: deallocated bytearray object has exported buffers"
     ]
    },
    {
     "ename": "MemoryError",
     "evalue": "",
     "output_type": "error",
     "traceback": [
      "\u001b[1;31m---------------------------------------------------------------------------\u001b[0m",
      "\u001b[1;31mMemoryError\u001b[0m                               Traceback (most recent call last)",
      "Cell \u001b[1;32mIn[6], line 3\u001b[0m\n\u001b[0;32m      1\u001b[0m \u001b[38;5;66;03m# Fight Video frames Numpy array list\u001b[39;00m\n\u001b[0;32m      2\u001b[0m \u001b[38;5;28;01mwith\u001b[39;00m \u001b[38;5;28mopen\u001b[39m(\u001b[38;5;124m\"\u001b[39m\u001b[38;5;124mD:\u001b[39m\u001b[38;5;130;01m\\\\\u001b[39;00m\u001b[38;5;124mgraduation project\u001b[39m\u001b[38;5;130;01m\\\\\u001b[39;00m\u001b[38;5;124mdatasets\u001b[39m\u001b[38;5;130;01m\\\\\u001b[39;00m\u001b[38;5;124mA-Dataset-for-Automatic-Violence-Detection-in-Videos\u001b[39m\u001b[38;5;130;01m\\\\\u001b[39;00m\u001b[38;5;124mviolence-detection-dataset\u001b[39m\u001b[38;5;130;01m\\\\\u001b[39;00m\u001b[38;5;124m4-4 data\u001b[39m\u001b[38;5;130;01m\\\\\u001b[39;00m\u001b[38;5;124mpickle\u001b[39m\u001b[38;5;130;01m\\\\\u001b[39;00m\u001b[38;5;124mv\u001b[39m\u001b[38;5;130;01m\\\\\u001b[39;00m\u001b[38;5;124mv.pickle\u001b[39m\u001b[38;5;124m\"\u001b[39m,\u001b[38;5;124m\"\u001b[39m\u001b[38;5;124mrb\u001b[39m\u001b[38;5;124m\"\u001b[39m) \u001b[38;5;28;01mas\u001b[39;00m fr:\n\u001b[1;32m----> 3\u001b[0m     data_Fight\u001b[38;5;241m=\u001b[39m\u001b[43mpickle\u001b[49m\u001b[38;5;241;43m.\u001b[39;49m\u001b[43mload\u001b[49m\u001b[43m(\u001b[49m\u001b[43mfr\u001b[49m\u001b[43m)\u001b[49m\n\u001b[0;32m      4\u001b[0m \u001b[38;5;66;03m# print(len(data_Fight))\u001b[39;00m\n",
      "\u001b[1;31mMemoryError\u001b[0m: "
     ]
    }
   ],
   "source": [
    "# Fight Video frames Numpy array list\n",
    "with open(\"D:\\\\graduation project\\\\datasets\\\\A-Dataset-for-Automatic-Violence-Detection-in-Videos\\\\violence-detection-dataset\\\\4-4 data\\\\pickle\\\\v\\\\v.pickle\",\"rb\") as fr:\n",
    "    data_Fight=pickle.load(fr)\n",
    "# print(len(data_Fight))"
   ]
  },
  {
   "cell_type": "code",
   "execution_count": 3,
   "metadata": {},
   "outputs": [
    {
     "name": "stdout",
     "output_type": "stream",
     "text": [
      "1000\n"
     ]
    }
   ],
   "source": [
    "# Fight label frames Numpy array list\n",
    "with open(\"D:\\\\graduation project\\\\datasets\\\\A-Dataset-for-Automatic-Violence-Detection-in-Videos\\\\violence-detection-dataset\\\\4-4 data\\\\pickle\\\\v\\\\label_v.pickle\",\"rb\") as fr:\n",
    "    label_Fight=pickle.load(fr)\n",
    "print(len(label_Fight))"
   ]
  },
  {
   "cell_type": "code",
   "execution_count": 12,
   "metadata": {},
   "outputs": [
    {
     "data": {
      "text/plain": [
       "602"
      ]
     },
     "execution_count": 12,
     "metadata": {},
     "output_type": "execute_result"
    }
   ],
   "source": [
    "len(label_Fight)"
   ]
  },
  {
   "cell_type": "code",
   "execution_count": 3,
   "metadata": {},
   "outputs": [
    {
     "ename": "SystemError",
     "evalue": "deallocated bytearray object has exported buffers",
     "output_type": "error",
     "traceback": [
      "\u001b[1;31m---------------------------------------------------------------------------\u001b[0m",
      "\u001b[1;31mSystemError\u001b[0m                               Traceback (most recent call last)",
      "\u001b[1;31mSystemError\u001b[0m: deallocated bytearray object has exported buffers"
     ]
    },
    {
     "ename": "MemoryError",
     "evalue": "",
     "output_type": "error",
     "traceback": [
      "\u001b[1;31m---------------------------------------------------------------------------\u001b[0m",
      "\u001b[1;31mMemoryError\u001b[0m                               Traceback (most recent call last)",
      "Cell \u001b[1;32mIn[3], line 3\u001b[0m\n\u001b[0;32m      1\u001b[0m \u001b[38;5;66;03m# NONFight video Numpy array list\u001b[39;00m\n\u001b[0;32m      2\u001b[0m \u001b[38;5;28;01mwith\u001b[39;00m \u001b[38;5;28mopen\u001b[39m(\u001b[38;5;124m\"\u001b[39m\u001b[38;5;124mD:\u001b[39m\u001b[38;5;130;01m\\\\\u001b[39;00m\u001b[38;5;124mgraduation project\u001b[39m\u001b[38;5;130;01m\\\\\u001b[39;00m\u001b[38;5;124mdatasets\u001b[39m\u001b[38;5;130;01m\\\\\u001b[39;00m\u001b[38;5;124mA-Dataset-for-Automatic-Violence-Detection-in-Videos\u001b[39m\u001b[38;5;130;01m\\\\\u001b[39;00m\u001b[38;5;124mviolence-detection-dataset\u001b[39m\u001b[38;5;130;01m\\\\\u001b[39;00m\u001b[38;5;124m4-4 data\u001b[39m\u001b[38;5;130;01m\\\\\u001b[39;00m\u001b[38;5;124mpickle\u001b[39m\u001b[38;5;130;01m\\\\\u001b[39;00m\u001b[38;5;124mnv\u001b[39m\u001b[38;5;130;01m\\\\\u001b[39;00m\u001b[38;5;124mnv.pickle\u001b[39m\u001b[38;5;124m\"\u001b[39m,\u001b[38;5;124m\"\u001b[39m\u001b[38;5;124mrb\u001b[39m\u001b[38;5;124m\"\u001b[39m) \u001b[38;5;28;01mas\u001b[39;00m fr:\n\u001b[1;32m----> 3\u001b[0m     data_NonFight\u001b[38;5;241m=\u001b[39m\u001b[43mpickle\u001b[49m\u001b[38;5;241;43m.\u001b[39;49m\u001b[43mload\u001b[49m\u001b[43m(\u001b[49m\u001b[43mfr\u001b[49m\u001b[43m)\u001b[49m\n\u001b[0;32m      4\u001b[0m \u001b[38;5;28mprint\u001b[39m(\u001b[38;5;28mlen\u001b[39m(data_NonFight))\n",
      "\u001b[1;31mMemoryError\u001b[0m: "
     ]
    }
   ],
   "source": [
    "# NONFight video Numpy array list\n",
    "with open(\"D:\\\\graduation project\\\\datasets\\\\A-Dataset-for-Automatic-Violence-Detection-in-Videos\\\\violence-detection-dataset\\\\4-4 data\\\\pickle\\\\nv\\\\nv.pickle\",\"rb\") as fr:\n",
    "    data_NonFight=pickle.load(fr)\n",
    "print(len(data_NonFight))"
   ]
  },
  {
   "cell_type": "code",
   "execution_count": 6,
   "metadata": {},
   "outputs": [
    {
     "name": "stdout",
     "output_type": "stream",
     "text": [
      "1000\n"
     ]
    }
   ],
   "source": [
    "# NONFight label Numpy array list\n",
    "with open(\"D:\\\\graduation project\\\\datasets\\\\A-Dataset-for-Automatic-Violence-Detection-in-Videos\\\\violence-detection-dataset\\\\4-4 data\\\\pickle\\\\nv\\\\label_nv.pickle\",\"rb\") as fr:\n",
    "    label_NonFight=pickle.load(fr)\n",
    "print(len(label_NonFight))"
   ]
  },
  {
   "cell_type": "markdown",
   "metadata": {},
   "source": [
    "## 1. Merge data : Fight + NonFight"
   ]
  },
  {
   "cell_type": "markdown",
   "metadata": {},
   "source": []
  },
  {
   "cell_type": "code",
   "execution_count": 9,
   "metadata": {},
   "outputs": [
    {
     "name": "stdout",
     "output_type": "stream",
     "text": [
      "1203\n"
     ]
    }
   ],
   "source": [
    "data_total=data_Fight+data_NonFight\n",
    "print(len(data_total))"
   ]
  },
  {
   "cell_type": "code",
   "execution_count": 10,
   "metadata": {},
   "outputs": [
    {
     "name": "stdout",
     "output_type": "stream",
     "text": [
      "1203\n"
     ]
    }
   ],
   "source": [
    "label_total=label_Fight+label_NonFight\n",
    "print(len(label_total))"
   ]
  },
  {
   "cell_type": "markdown",
   "metadata": {},
   "source": [
    "## 2. Shuffle merged dataset"
   ]
  },
  {
   "cell_type": "code",
   "execution_count": 11,
   "metadata": {},
   "outputs": [],
   "source": [
    "np.random.seed(42)"
   ]
  },
  {
   "cell_type": "code",
   "execution_count": 12,
   "metadata": {},
   "outputs": [],
   "source": [
    "c=list(zip(data_total, label_total)) # zip \n",
    "shuffle(c) # Random Shuffle\n",
    "data_total, label_total=zip(*c)  # unpacking"
   ]
  },
  {
   "cell_type": "markdown",
   "metadata": {},
   "source": [
    "## 3. save shuffled dataset as .pickle\n",
    "* **`pickle.dump(protocol=pickle.HIGHEST_PROTOCOL)`** : You can solve lack of memory issue when pickle save process"
   ]
  },
  {
   "cell_type": "code",
   "execution_count": 21,
   "metadata": {},
   "outputs": [],
   "source": [
    "# Save data\n",
    "with open(\"D:\\\\graduation project\\\\datasets\\\\A-Dataset-for-Automatic-Violence-Detection-in-Videos\\\\violence-detection-dataset\\\\4-4 data\\\\pickle\\\\total\\\\total2000.pickle\",\"wb\") as fw:\n",
    "    pickle.dump(data_total, fw, protocol=pickle.HIGHEST_PROTOCOL)"
   ]
  },
  {
   "cell_type": "code",
   "execution_count": 22,
   "metadata": {},
   "outputs": [],
   "source": [
    "# Save label\n",
    "with open(\"D:\\\\graduation project\\\\datasets\\\\A-Dataset-for-Automatic-Violence-Detection-in-Videos\\\\violence-detection-dataset\\\\4-4 data\\\\pickle\\\\total\\\\total2000_label.pickle\",\"wb\") as fw:\n",
    "    pickle.dump(label_total, fw)"
   ]
  },
  {
   "cell_type": "markdown",
   "metadata": {},
   "source": [
    "# 02-C. Split training set / test set"
   ]
  },
  {
   "cell_type": "markdown",
   "metadata": {},
   "source": [
    "## 1. Load shuffled dataset(.pickle)\n",
    "* **`The reason why I repeated saving and loading .pickle is`** :\n",
    "    * Just, because of RAM & memory issues."
   ]
  },
  {
   "cell_type": "code",
   "execution_count": 23,
   "metadata": {},
   "outputs": [],
   "source": [
    "td=\"D:\\\\graduation project\\\\datasets\\\\A-Dataset-for-Automatic-Violence-Detection-in-Videos\\\\violence-detection-dataset\\\\4-4 data\\\\pickle\\\\total\\\\total2000.pickle\"\n",
    "tl=\"D:\\\\graduation project\\\\datasets\\\\A-Dataset-for-Automatic-Violence-Detection-in-Videos\\\\violence-detection-dataset\\\\4-4 data\\\\pickle\\\\total\\\\total2000_label.pickle\""
   ]
  },
  {
   "cell_type": "code",
   "execution_count": 11,
   "metadata": {},
   "outputs": [
    {
     "ename": "NameError",
     "evalue": "name 'td' is not defined",
     "output_type": "error",
     "traceback": [
      "\u001b[1;31m---------------------------------------------------------------------------\u001b[0m",
      "\u001b[1;31mNameError\u001b[0m                                 Traceback (most recent call last)",
      "Cell \u001b[1;32mIn[11], line 2\u001b[0m\n\u001b[0;32m      1\u001b[0m \u001b[38;5;66;03m# load data\u001b[39;00m\n\u001b[1;32m----> 2\u001b[0m \u001b[38;5;28;01mwith\u001b[39;00m \u001b[38;5;28mopen\u001b[39m(\u001b[43mtd\u001b[49m,\u001b[38;5;124m\"\u001b[39m\u001b[38;5;124mrb\u001b[39m\u001b[38;5;124m\"\u001b[39m) \u001b[38;5;28;01mas\u001b[39;00m fr:\n\u001b[0;32m      3\u001b[0m     data_total\u001b[38;5;241m=\u001b[39mpickle\u001b[38;5;241m.\u001b[39mload(fr)\n",
      "\u001b[1;31mNameError\u001b[0m: name 'td' is not defined"
     ]
    }
   ],
   "source": [
    "# load data\n",
    "with open(td,\"rb\") as fr:\n",
    "    data_total=pickle.load(fr)"
   ]
  },
  {
   "cell_type": "code",
   "execution_count": null,
   "metadata": {},
   "outputs": [],
   "source": [
    "# load label\n",
    "with open(tl,\"rb\") as fr:\n",
    "    label_total=pickle.load(fr)"
   ]
  },
  {
   "cell_type": "markdown",
   "metadata": {},
   "source": [
    "## 2. Split dataset as training set / test set (8:2 ratio)\n"
   ]
  },
  {
   "cell_type": "markdown",
   "metadata": {},
   "source": [
    "### 1) The number of training set, test set"
   ]
  },
  {
   "cell_type": "code",
   "execution_count": 13,
   "metadata": {},
   "outputs": [],
   "source": [
    "training_set=int(len(data_total)*0.8)\n",
    "test_set=int(len(data_total)*0.2)"
   ]
  },
  {
   "cell_type": "code",
   "execution_count": 14,
   "metadata": {},
   "outputs": [],
   "source": [
    "data_training=data_total[0:training_set] # Training set data\n",
    "data_test=data_total[training_set:] # Test set data\n",
    "\n",
    "label_training=label_total[0:training_set] # Training set label\n",
    "label_test=label_total[training_set:] # Test set label"
   ]
  },
  {
   "cell_type": "code",
   "execution_count": 15,
   "metadata": {},
   "outputs": [
    {
     "data": {
      "text/plain": [
       "(962, 962, 241, 241)"
      ]
     },
     "execution_count": 15,
     "metadata": {},
     "output_type": "execute_result"
    }
   ],
   "source": [
    "len(data_training), len(label_training), len(data_test), len(label_test)"
   ]
  },
  {
   "cell_type": "markdown",
   "metadata": {},
   "source": [
    "### 2) Check the shape of elements"
   ]
  },
  {
   "cell_type": "code",
   "execution_count": 16,
   "metadata": {},
   "outputs": [
    {
     "data": {
      "text/plain": [
       "((30, 160, 160, 3), (2,))"
      ]
     },
     "execution_count": 16,
     "metadata": {},
     "output_type": "execute_result"
    }
   ],
   "source": [
    "data_training[900].shape, label_training[0].shape"
   ]
  },
  {
   "cell_type": "code",
   "execution_count": 17,
   "metadata": {},
   "outputs": [
    {
     "data": {
      "text/plain": [
       "array([[0.7430077 , 0.69625578, 0.63656031, ..., 0.95644944, 0.96701296,\n",
       "        0.95813254],\n",
       "       [0.73568934, 0.6875909 , 0.62088489, ..., 0.96891968, 0.97043729,\n",
       "        0.96289282],\n",
       "       [0.71244198, 0.66309651, 0.54427322, ..., 0.96460135, 0.96557748,\n",
       "        0.94797657],\n",
       "       ...,\n",
       "       [0.58068958, 0.63040458, 0.69043349, ..., 0.30207519, 0.3594045 ,\n",
       "        0.30902719],\n",
       "       [0.62196339, 0.64201595, 0.68509924, ..., 0.27631474, 0.28947046,\n",
       "        0.29899182],\n",
       "       [0.6795203 , 0.65403556, 0.66961267, ..., 0.26545851, 0.28742633,\n",
       "        0.28680905]])"
      ]
     },
     "execution_count": 17,
     "metadata": {},
     "output_type": "execute_result"
    }
   ],
   "source": [
    "data_training[12][0, :, :, 0]"
   ]
  },
  {
   "cell_type": "markdown",
   "metadata": {},
   "source": [
    "## 3. Save training set & test set as .pickle file\n",
    "* **`The reason why I repeated saving and loading .pickle is`** :\n",
    "    * Just, because of RAM & memory issues."
   ]
  },
  {
   "cell_type": "code",
   "execution_count": 22,
   "metadata": {},
   "outputs": [],
   "source": [
    "# training set, data\n",
    "with open(\"D:\\\\graduation project\\\\datasets\\\\A-Dataset-for-Automatic-Violence-Detection-in-Videos\\\\violence-detection-dataset\\\\4-4 data\\\\pickle\\\\split\\\\train\\\\train_data.pickle\",\"wb\") as fw:\n",
    "    pickle.dump(data_training, fw, protocol=pickle.HIGHEST_PROTOCOL)"
   ]
  },
  {
   "cell_type": "code",
   "execution_count": 3,
   "metadata": {},
   "outputs": [
    {
     "name": "stdout",
     "output_type": "stream",
     "text": [
      "962\n"
     ]
    }
   ],
   "source": [
    "with open(\"D:\\\\graduation project\\\\datasets\\\\A-Dataset-for-Automatic-Violence-Detection-in-Videos\\\\violence-detection-dataset\\\\4-4 data\\\\pickle\\\\split\\\\train\\\\train_data.pickle\",\"rb\") as fr:\n",
    "    data_training=pickle.load(fr)\n",
    "print(len(data_training))"
   ]
  },
  {
   "cell_type": "code",
   "execution_count": null,
   "metadata": {},
   "outputs": [],
   "source": []
  },
  {
   "cell_type": "code",
   "execution_count": 23,
   "metadata": {},
   "outputs": [],
   "source": [
    "# training set, label\n",
    "with open(\"D:\\\\graduation project\\\\datasets\\\\A-Dataset-for-Automatic-Violence-Detection-in-Videos\\\\violence-detection-dataset\\\\4-4 data\\\\pickle\\\\split\\\\train\\\\train_label.pickle\",\"wb\") as fw:\n",
    "    pickle.dump(label_training, fw)"
   ]
  },
  {
   "cell_type": "code",
   "execution_count": 24,
   "metadata": {},
   "outputs": [],
   "source": [
    "# test set, data\n",
    "with open(\"D:\\\\graduation project\\\\datasets\\\\A-Dataset-for-Automatic-Violence-Detection-in-Videos\\\\violence-detection-dataset\\\\4-4 data\\\\pickle\\\\split\\\\test\\\\test_data.pickle\",\"wb\") as fw:\n",
    "    pickle.dump(data_test, fw, protocol=pickle.HIGHEST_PROTOCOL)"
   ]
  },
  {
   "cell_type": "code",
   "execution_count": 25,
   "metadata": {},
   "outputs": [],
   "source": [
    "# test set, label\n",
    "with open(\"D:\\\\graduation project\\\\datasets\\\\A-Dataset-for-Automatic-Violence-Detection-in-Videos\\\\violence-detection-dataset\\\\4-4 data\\\\pickle\\\\split\\\\test\\\\test_label.pickle\",\"wb\") as fw:\n",
    "    pickle.dump(label_test, fw)"
   ]
  },
  {
   "cell_type": "markdown",
   "metadata": {},
   "source": [
    "## 2. Transform training set & test set as Numpy array, and save them (.npy)"
   ]
  },
  {
   "cell_type": "markdown",
   "metadata": {},
   "source": [
    "### 1) Training set"
   ]
  },
  {
   "cell_type": "code",
   "execution_count": 4,
   "metadata": {},
   "outputs": [],
   "source": [
    "data_training_ar=np.array(data_training, dtype=np.float16) #> (2878, 30, 160, 160, 3)"
   ]
  },
  {
   "cell_type": "code",
   "execution_count": 5,
   "metadata": {},
   "outputs": [],
   "source": [
    "np.save('D:\\\\graduation project\\\\datasets\\\\A-Dataset-for-Automatic-Violence-Detection-in-Videos\\\\violence-detection-dataset\\\\4-4 data\\\\pickle\\\\split\\\\train\\\\data_train_TRANSNumpy.npy', data_training_ar)"
   ]
  },
  {
   "cell_type": "code",
   "execution_count": 33,
   "metadata": {},
   "outputs": [],
   "source": [
    "label_training_ar=np.array(label_training) #> (2878, 2)"
   ]
  },
  {
   "cell_type": "code",
   "execution_count": 36,
   "metadata": {},
   "outputs": [],
   "source": [
    "np.save('D:\\\\graduation project\\\\datasets\\\\A-Dataset-for-Automatic-Violence-Detection-in-Videos\\\\violence-detection-dataset\\\\4-4 data\\\\pickle\\\\split\\\\train\\\\label_train_TRANSNumpy.npy', label_training_ar)"
   ]
  },
  {
   "cell_type": "code",
   "execution_count": 8,
   "metadata": {},
   "outputs": [
    {
     "data": {
      "text/plain": [
       "(962, 30, 160, 160, 3)"
      ]
     },
     "execution_count": 8,
     "metadata": {},
     "output_type": "execute_result"
    }
   ],
   "source": [
    "data_training_ar.shape, label_training_ar.shape"
   ]
  },
  {
   "cell_type": "markdown",
   "metadata": {},
   "source": [
    "### 2) Test set"
   ]
  },
  {
   "cell_type": "code",
   "execution_count": 27,
   "metadata": {},
   "outputs": [],
   "source": [
    "data_test_ar=np.array(data_test, dtype=np.float16) #> (720, 30, 160, 160, 3)"
   ]
  },
  {
   "cell_type": "code",
   "execution_count": 28,
   "metadata": {},
   "outputs": [],
   "source": [
    "np.save('D:\\\\graduation project\\\\datasets\\\\A-Dataset-for-Automatic-Violence-Detection-in-Videos\\\\violence-detection-dataset\\\\4-4 data\\\\pickle\\\\split\\\\test\\\\data_test_TRANSNumpy.npy', data_test_ar)"
   ]
  },
  {
   "cell_type": "code",
   "execution_count": 29,
   "metadata": {},
   "outputs": [],
   "source": [
    "label_test_ar=np.array(label_test) #> (720, 2)"
   ]
  },
  {
   "cell_type": "code",
   "execution_count": 30,
   "metadata": {},
   "outputs": [],
   "source": [
    "np.save('D:\\\\graduation project\\\\datasets\\\\A-Dataset-for-Automatic-Violence-Detection-in-Videos\\\\violence-detection-dataset\\\\4-4 data\\\\pickle\\\\split\\\\test\\\\label_data_test_TRANSNumpy.npy', label_test_ar)"
   ]
  },
  {
   "cell_type": "code",
   "execution_count": 31,
   "metadata": {},
   "outputs": [
    {
     "data": {
      "text/plain": [
       "((241, 30, 160, 160, 3), (241, 2))"
      ]
     },
     "execution_count": 31,
     "metadata": {},
     "output_type": "execute_result"
    }
   ],
   "source": [
    "data_test_ar.shape, label_test_ar.shape"
   ]
  },
  {
   "cell_type": "code",
   "execution_count": null,
   "metadata": {},
   "outputs": [],
   "source": []
  }
 ],
 "metadata": {
  "colab": {
   "collapsed_sections": [],
   "name": "Save2Npy.ipynb의 사본",
   "provenance": [
    {
     "file_id": "1QzVuS31z0_YnwKgemxRNuTYqpiZXI6X5",
     "timestamp": 1619686640536
    }
   ]
  },
  "kernelspec": {
   "display_name": "Python 3 (ipykernel)",
   "language": "python",
   "name": "python3"
  },
  "language_info": {
   "codemirror_mode": {
    "name": "ipython",
    "version": 3
   },
   "file_extension": ".py",
   "mimetype": "text/x-python",
   "name": "python",
   "nbconvert_exporter": "python",
   "pygments_lexer": "ipython3",
   "version": "3.11.4"
  }
 },
 "nbformat": 4,
 "nbformat_minor": 4
}
